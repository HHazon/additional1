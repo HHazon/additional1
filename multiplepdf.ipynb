{
 "cells": [
  {
   "cell_type": "code",
   "execution_count": 1,
   "id": "de33edcc-5d22-4362-a581-96be9d79b5f2",
   "metadata": {},
   "outputs": [],
   "source": [
    "import pdfplumber\n",
    "import pandas as pd\n",
    "import os"
   ]
  },
  {
   "cell_type": "code",
   "execution_count": null,
   "id": "657f0abe-fd60-470f-8c34-0b61a4afd60a",
   "metadata": {},
   "outputs": [],
   "source": [
    "def extract_pdf(pdf_path):\n",
    "    lines = []\n",
    "    with pdfplumber.open('file_pdf') as pdf:\n",
    "        for pdf_page in pdf.pages:\n",
    "            single_page_text = pdf_page.extract_text()\n",
    "            for lines in single_page_text.split('\\n'):\n",
    "                lines.append(line)\n",
    "                #print(linesOfFile)\n",
    "    return lines"
   ]
  },
  {
   "cell_type": "code",
   "execution_count": null,
   "id": "9d2bec02-ed29-44b3-b64d-32cd2c1e288f",
   "metadata": {},
   "outputs": [],
   "source": [
    "folder_with_pdfs = 'path'\n",
    "lines = []\n",
    "for pdf_file in os.listdir(folder_with_pdfs):\n",
    "    if pdf_file.endswith('.pdf'):\n",
    "        pdf_file_path = os.path.join(folder_with_pdfs, pdf_file)\n",
    "        linesOfFile = extract_pdf(pdf_file_path)\n",
    "        linesOfFiles.append(linesOfFile)"
   ]
  },
  {
   "cell_type": "code",
   "execution_count": null,
   "id": "8dafeffb-4aa0-46c1-b152-e42a92fd4d8e",
   "metadata": {},
   "outputs": [],
   "source": [
    "df = pd.DataFrame(lines)\n",
    "df.to_csv('result.csv')"
   ]
  }
 ],
 "metadata": {
  "kernelspec": {
   "display_name": "Python 3 (ipykernel)",
   "language": "python",
   "name": "python3"
  },
  "language_info": {
   "codemirror_mode": {
    "name": "ipython",
    "version": 3
   },
   "file_extension": ".py",
   "mimetype": "text/x-python",
   "name": "python",
   "nbconvert_exporter": "python",
   "pygments_lexer": "ipython3",
   "version": "3.9.18"
  }
 },
 "nbformat": 4,
 "nbformat_minor": 5
}
